{
 "cells": [
  {
   "cell_type": "code",
   "execution_count": null,
   "id": "85af6112",
   "metadata": {},
   "outputs": [],
   "source": [
    "findLast[]"
   ]
  },
  {
   "cell_type": "code",
   "execution_count": null,
   "id": "5b3e0465",
   "metadata": {},
   "outputs": [],
   "source": [
    "findLast (int[] x, int y)\n",
    "for (int i = x.length-1; i > 0; i--)\n",
    "if (x[i] == y)\n",
    "return i;\n",
    "\n",
    " \treturn -1;\n",
    "}\n"
   ]
  }
 ],
 "metadata": {
  "kernelspec": {
   "display_name": "Python 3",
   "language": "python",
   "name": "python3"
  },
  "language_info": {
   "codemirror_mode": {
    "name": "ipython",
    "version": 3
   },
   "file_extension": ".py",
   "mimetype": "text/x-python",
   "name": "python",
   "nbconvert_exporter": "python",
   "pygments_lexer": "ipython3",
   "version": "3.8.5"
  }
 },
 "nbformat": 4,
 "nbformat_minor": 5
}
