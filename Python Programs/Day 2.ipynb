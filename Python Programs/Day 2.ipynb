{
 "cells": [
  {
   "cell_type": "markdown",
   "id": "f40e2d12",
   "metadata": {},
   "source": [
    "# Day 2 of Python Programming"
   ]
  },
  {
   "cell_type": "markdown",
   "id": "d41b5f51",
   "metadata": {},
   "source": [
    "###  Variables in Python"
   ]
  },
  {
   "cell_type": "markdown",
   "id": "416f442a",
   "metadata": {},
   "source": [
    "A Python variable is a reserved memory location to store values. In other words, a variable in a python program gives data to the computer for processing. A Python identifier is a name given to our variables. Python is a case-sensitive programming language. Thus, Sales and sales are 2 different variables."
   ]
  },
  {
   "cell_type": "markdown",
   "id": "9295caff",
   "metadata": {},
   "source": [
    "### Naming Conventions"
   ]
  },
  {
   "cell_type": "markdown",
   "id": "d74a7d4d",
   "metadata": {},
   "source": [
    "The name of a variable can be composed of letters and digits or the underscore. \n",
    "It can start from A to Z or a to z or an underscore followed by more letters, underscores and digits (0 to 9). \n",
    "Python does not allow punctuation characters such as @ $ and % within the variable name. \n",
    "Valid variable names are PROFIT, salary, emp12, Acc_ etc. \n",
    "Some words have pre-defined significance in the Python programming language. These words are called reserved words and may not be used as constants or variable names. Examples of reserved words include if, else, for, break etc."
   ]
  },
  {
   "cell_type": "markdown",
   "id": "91ffc23f",
   "metadata": {},
   "source": [
    "### Assigning values to variables"
   ]
  },
  {
   "cell_type": "markdown",
   "id": "50e03145",
   "metadata": {},
   "source": [
    "Like many other programming languages, the \"=\" operator means an assignment and does not represent mathematical equality. Thus the statement x=5 assigns the numeric value 5 to variable x. It should be noted that the numeric value is written without double quotes and a string value is enclosed in double quotes \"\". For example:\n",
    "\n",
    "salary = 7000\n",
    "country = \"UK\"\n"
   ]
  },
  {
   "cell_type": "markdown",
   "id": "b89cccca",
   "metadata": {},
   "source": [
    "### Output in Python"
   ]
  },
  {
   "cell_type": "markdown",
   "id": "6beef859",
   "metadata": {},
   "source": [
    "The most fundamental thing in a programming language is the input to the program and output from the program. The output is displayed using the **print()** function in Python."
   ]
  },
  {
   "cell_type": "markdown",
   "id": "954bfea8",
   "metadata": {},
   "source": [
    "**print() Function**\n",
    "\n",
    "The string which needs to be printed is written in double quotes in print() function."
   ]
  },
  {
   "cell_type": "code",
   "execution_count": 14,
   "id": "590486ec",
   "metadata": {
    "scrolled": true
   },
   "outputs": [
    {
     "name": "stdout",
     "output_type": "stream",
     "text": [
      "Total salary is salary\n",
      "Total salary is :  7000\n"
     ]
    }
   ],
   "source": [
    "#Program 1: To print output in a program.\n",
    "salary = 7000\n",
    "print(\"Total salary is salary\")\n",
    "print(\"Total salary is : \" , salary)"
   ]
  },
  {
   "cell_type": "markdown",
   "id": "8c9358e4",
   "metadata": {},
   "source": [
    "**Explanation:** As the variable inside double quotes will be printed by Python as it is rather printing the value of the variable. Thus, the statement print(\"Total salary is salary \") prints \"Total salary is salary\". In case we want to print the value of the variable, then we need to write the variable name without double-quotes. Hence the statement print(\"Total salary is: \", salary) prints \"Total salary is 7000\". It should be noted that the string and the variable are separated with a comma (,)."
   ]
  },
  {
   "cell_type": "code",
   "execution_count": 15,
   "id": "941a1e98",
   "metadata": {},
   "outputs": [
    {
     "name": "stdout",
     "output_type": "stream",
     "text": [
      "Welcome\n",
      "to\n",
      "Python World\n"
     ]
    }
   ],
   "source": [
    "#Program 2: To print multiple outputs in a single program.\n",
    "print(\"Welcome\")\n",
    "print(\"to\")\n",
    "print(\"Python World\")"
   ]
  },
  {
   "cell_type": "markdown",
   "id": "406bc2b8",
   "metadata": {},
   "source": [
    "**Explanation:** We can observe that the use of each print statement displays the result in a new line. Hence, \"Welcome\", \"to\", \"Python World\" are printed on three different lines."
   ]
  },
  {
   "cell_type": "markdown",
   "id": "230a068a",
   "metadata": {},
   "source": [
    "**Print with \"end\" Argument** \n",
    "\n",
    "Sometimes it is convenient to view the output of a single line printed texted over several Python statements. As an example, we may compute part of a complicated calculation, print an intermediate result, finish the calculation, and print the final answer with the output all appearing in one line of text. The \"end\" argument in print statement allows doing so."
   ]
  },
  {
   "cell_type": "code",
   "execution_count": 16,
   "id": "281b8a88",
   "metadata": {},
   "outputs": [
    {
     "name": "stdout",
     "output_type": "stream",
     "text": [
      "Welcome to Python World "
     ]
    }
   ],
   "source": [
    "#Program 3: To print with 'end' argument.\n",
    "print('Welcome', end=' ')\n",
    "print('to',  end= ' ')\n",
    "print ('Python World', end= ' ')"
   ]
  },
  {
   "cell_type": "markdown",
   "id": "347f8603",
   "metadata": {},
   "source": [
    "**Explanation:** We have used \"end\" argument in print() function. This will cause the cursor to remain on the same line for the next text. Hence, all words are printed on the same line."
   ]
  },
  {
   "cell_type": "code",
   "execution_count": 17,
   "id": "e9b2712d",
   "metadata": {},
   "outputs": [
    {
     "name": "stdout",
     "output_type": "stream",
     "text": [
      "Hello Dear\n",
      "Enter your name  Welcome\n",
      "Nice to see you"
     ]
    }
   ],
   "source": [
    "#Program 4: To use print() function with and without \"end\" argument.\n",
    "print(\"Hello Dear\")\n",
    "print(\"Enter your name \", end= ' ')\n",
    "print(\"Welcome\")\n",
    "print(end='Nice to see you')"
   ]
  },
  {
   "cell_type": "markdown",
   "id": "f59b1063",
   "metadata": {},
   "source": [
    "**Explanation:** The statement print('Hello Dear') is an abbreviated form of the statement print('Hello Dear', end= '\\n'), that is, the default ending for a line of printed text is the string '\\n' (the newline control code). The next statement print('Enter your name ', end= '') terminates the line with the string \"Enter your name\" rather than the normal \\n newline code. The difference in the behaviour of the two statements is indistinguishable. Since the end argument is used, \"Welcome\" is written in the same line. However, the statement print(end = 'Nice to see you') moves the cursor down to the next line."
   ]
  },
  {
   "cell_type": "markdown",
   "id": "64dd18fb",
   "metadata": {},
   "source": [
    "**Print with \"sep\" argument**\n",
    "\n",
    "The print() function uses the argument \"sep\" to specify what string to insert between the items. The value of the sep argument allows us to control how the print() function visually separates the arguments in the display."
   ]
  },
  {
   "cell_type": "code",
   "execution_count": 18,
   "id": "69ab27c5",
   "metadata": {},
   "outputs": [
    {
     "name": "stdout",
     "output_type": "stream",
     "text": [
      "100 150 200 250\n",
      "100150200250\n",
      "100 150 200 250\n",
      "100,150,200,250\n",
      "100:150:200:250\n",
      "100-----150-----200-----250\n"
     ]
    }
   ],
   "source": [
    "#Program 5: To show the use of \"sep\" argument in print() function.\n",
    "var1, var2, var3, var4 = 100 , 150, 200, 250\n",
    "\n",
    "print(var1, var2, var3, var4)\n",
    "print(var1, var2, var3, var4, sep= '')\n",
    "print(var1, var2, var3, var4, sep= ' ')\n",
    "print(var1, var2, var3, var4, sep= ',')\n",
    "print(var1, var2, var3, var4, sep= ':')\n",
    "print(var1, var2, var3, var4, sep='-----')"
   ]
  },
  {
   "cell_type": "markdown",
   "id": "dc3464e2",
   "metadata": {},
   "source": [
    "**Explanation:** The first output shows print's default method of using a single space between printed output. The second output uses no space as a separator. The third output uses an empty string as a separator. The fourth output uses a comma as a separator. The fifth output uses the colon as a separator. And lastly, the sixth output uses multiple string characters like dashes as a separator."
   ]
  },
  {
   "cell_type": "markdown",
   "id": "9e089b12",
   "metadata": {},
   "source": [
    "### Input in python"
   ]
  },
  {
   "cell_type": "markdown",
   "id": "c10258f1",
   "metadata": {},
   "source": [
    "Input in Python program is primarily taken using the **input()** function. The input() function helps to take the string data from the user. However **int()** and **float()** functions can be used along with input() if the user wants to take only integer and float inputs respectively. The **eval()** function is commonly used to define the data type of the input according to the value entered by the user."
   ]
  },
  {
   "cell_type": "markdown",
   "id": "43481138",
   "metadata": {},
   "source": [
    "**Input() Function**\n",
    "\n",
    "This function primarily takes input from the user. It should be noted that the input() function accepts only string data. Hence it is advisable to use this function only when the user wants to input a string data type only."
   ]
  },
  {
   "cell_type": "code",
   "execution_count": 19,
   "id": "f658886f",
   "metadata": {},
   "outputs": [
    {
     "name": "stdout",
     "output_type": "stream",
     "text": [
      "Enter a number: 12\n",
      "The number is: 12 and class is: <class 'str'>\n"
     ]
    }
   ],
   "source": [
    "#Program 6: To take string value as input from the user.\n",
    "num = input(\"Enter a number: \") \n",
    "print(\"The number is:\", num, \"and class is:\", type(num))"
   ]
  },
  {
   "cell_type": "markdown",
   "id": "f679bfb8",
   "metadata": {},
   "source": [
    "**Explanation:** The user is asked to enter a number using the input() function. It should be noted that the input() function takes input in the form of string only, hence the input is converted to a string. Hence when the user enters 12 which is a number; but, the input() function converts it into a string. So, when the data type of \"num\" using type() function is printed, class \"str\" is printed."
   ]
  },
  {
   "cell_type": "code",
   "execution_count": 20,
   "id": "2dd0d3c5",
   "metadata": {},
   "outputs": [
    {
     "name": "stdout",
     "output_type": "stream",
     "text": [
      "Enter your name: Harry\n",
      "Hello and Welcome Harry\n"
     ]
    }
   ],
   "source": [
    "#Program 7: To take string values as input from the user.\n",
    "username = input(\"Enter your name: \")\n",
    "print(\"Hello and Welcome\", username )"
   ]
  },
  {
   "cell_type": "markdown",
   "id": "8b11d42e",
   "metadata": {},
   "source": [
    "**Explanation:** In the above program, the user is prompted to enter the name which is stored in the variable \"username\" and hence when the username is printed along with the string \"Hello and Welcome\"; the name is printed along with the string."
   ]
  },
  {
   "cell_type": "markdown",
   "id": "71ef16da",
   "metadata": {},
   "source": [
    "**Input with int() function**\n",
    "The int() function along with the input() function helps to accept integer values from the user."
   ]
  },
  {
   "cell_type": "code",
   "execution_count": 21,
   "id": "134463bc",
   "metadata": {},
   "outputs": [
    {
     "name": "stdout",
     "output_type": "stream",
     "text": [
      "Enter the salary:5000\n",
      "The salary is: 5000 <class 'int'>\n"
     ]
    }
   ],
   "source": [
    "#Program 8: To take numeric value as input from user.\n",
    "salary = int(input(\"Enter the salary:\"))\n",
    "print(\"The salary is:\", salary, type(salary))"
   ]
  },
  {
   "cell_type": "markdown",
   "id": "9ec499c3",
   "metadata": {},
   "source": [
    "**Explanation:** After displaying the string \"Enter the salary:\", the program's execution stops and waits for the user to type in some text and then press the enter key. The string produced by the input() function is passed to the int() function that produces a value to assign to the variable \"salary\". The command salary = int(input(\"Enter the salary:\")) hence prompts the user to enter an integer value and store it in the variable salary. The print command prints the value of the salary. The above program accepts integer values for salary. However, the error would have been generated if the salary was entered in a decimal form. This is because Python can not automatically convert a float value into an integer."
   ]
  },
  {
   "cell_type": "markdown",
   "id": "6472a3e0",
   "metadata": {},
   "source": [
    "**Input with float() function**\n",
    "The float() function along with the input() function helps to accept decimal values from the user."
   ]
  },
  {
   "cell_type": "code",
   "execution_count": 22,
   "id": "c6ca9cc1",
   "metadata": {},
   "outputs": [
    {
     "name": "stdout",
     "output_type": "stream",
     "text": [
      "Enter the side of square: 5.9\n",
      "The area of square using variable is:  34.81\n",
      "The area of square computed directly is:  34.81\n"
     ]
    }
   ],
   "source": [
    "#Program 9: To take float value as input from user.\n",
    "side = float(input(\"Enter the side of square: \"))\n",
    "area =  side * side\n",
    "print(\"The area of square using variable is: \", area)\n",
    "print(\"The area of square computed directly is: \", side*side)"
   ]
  },
  {
   "cell_type": "markdown",
   "id": "a9714f07",
   "metadata": {},
   "source": [
    "**Explanation:** In the first line, the user is prompted to enter the side of the square which is stored in the variable \"side\". The area is computed and stored in a variable named \"area\". The first print statement prints the answer from the variable \"area\" on the screen. The second print statement does the calculation inside the print statement and prints the result. Both the ways of print statements thereby print the same result. The user can choose any of the two ways depending on the requirement and utility. "
   ]
  },
  {
   "cell_type": "markdown",
   "id": "23370955",
   "metadata": {},
   "source": [
    "**Input with eval() function**\n",
    "\n",
    "Python provides a distinct feature for taking input from the user using the **eval()** function, which considers the data type according to the nature of input provided. The eval() function can also be used to convert a string representing a numeric expression into its evaluated numeric value. "
   ]
  },
  {
   "cell_type": "code",
   "execution_count": 23,
   "id": "9ac976de",
   "metadata": {},
   "outputs": [
    {
     "name": "stdout",
     "output_type": "stream",
     "text": [
      "Enter the value of first variable: 3\n",
      "val1=  3 type:  <class 'int'>\n",
      "Enter the value of second variable: 5.3\n",
      "val2=  5.3 type:  <class 'float'>\n",
      "Enter the value of third variable: \"HARRY\"\n",
      "val3=  HARRY type:  <class 'str'>\n"
     ]
    }
   ],
   "source": [
    "#Program 10: To take input from the user using eval() function.\n",
    "val1= eval(input('Enter the value of first variable: '))\n",
    "print('val1= ', val1, 'type: ', type(val1))\n",
    "\n",
    "val2= eval(input('Enter the value of second variable: '))\n",
    "print('val2= ', val2, 'type: ', type(val2))\n",
    "\n",
    "val3= eval(input('Enter the value of third variable: '))\n",
    "print('val3= ', val3, 'type: ', type(val3))"
   ]
  },
  {
   "cell_type": "markdown",
   "id": "e10366e2",
   "metadata": {},
   "source": [
    "**Explanation:** The first statement asks the user to enter the first value. The value entered by the user is stored in val1. The statement *print('val1= ', val1, 'type: ', type(val1))* displays the output on the screen with the data type of val1. Similarly, the user is prompted to enter the second value. The value entered is now stored in val2. The print statement now prints the variable val2 and its data type. Till now the user has not entered value in quotes, now for the third the user enters the third value in quotes, it will be treated as a string value. Hence the data type of val3 will be a string."
   ]
  },
  {
   "cell_type": "code",
   "execution_count": 24,
   "id": "d8578311",
   "metadata": {
    "scrolled": true
   },
   "outputs": [
    {
     "name": "stdout",
     "output_type": "stream",
     "text": [
      "Enter three numbers: 3,4,5\n",
      "3 + 4 + 5 = 12\n",
      "3 4 5\n",
      "<class 'int'>\n"
     ]
    }
   ],
   "source": [
    "#Program 11: \n",
    "a,b,c = eval(input(\"Enter three numbers: \"))\n",
    "\n",
    "print(a,\"+\", b,\"+\", c,\"=\",a+b+c)\n",
    "print(a, b, c)\n",
    "print(type(a))"
   ]
  },
  {
   "cell_type": "markdown",
   "id": "802f6de8",
   "metadata": {},
   "source": [
    "**Explanation:**  This example shows that the user can enter 3 numbers at the same time using one eval() function. The user has entered 3 numbers and hence the sum is printed. It should be noted that for giving multiple inputs through one statement, the numbers entered by the user should also be separated by a comma."
   ]
  },
  {
   "cell_type": "markdown",
   "id": "8f934f8f",
   "metadata": {},
   "source": [
    "**NOTE:** The statement *a,b,c = int(input(\"Enter three numbers: \"))* will result in run-time error beacause int() function can not accept multiple inputs. This is possible only through eval() function."
   ]
  }
 ],
 "metadata": {
  "kernelspec": {
   "display_name": "Python 3",
   "language": "python",
   "name": "python3"
  },
  "language_info": {
   "codemirror_mode": {
    "name": "ipython",
    "version": 3
   },
   "file_extension": ".py",
   "mimetype": "text/x-python",
   "name": "python",
   "nbconvert_exporter": "python",
   "pygments_lexer": "ipython3",
   "version": "3.8.5"
  }
 },
 "nbformat": 4,
 "nbformat_minor": 5
}
