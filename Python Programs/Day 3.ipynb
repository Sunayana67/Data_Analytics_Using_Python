{
 "cells": [
  {
   "cell_type": "markdown",
   "id": "f0f8839b",
   "metadata": {},
   "source": [
    "# Day 3 of Python Programming"
   ]
  },
  {
   "cell_type": "markdown",
   "id": "2a27e83b",
   "metadata": {},
   "source": [
    "An operator is a symbol that tells the compiler to perform specififc mathematical or logical functions. Python language provides the following types of operators:\n",
    "<ul>\n",
    "    <li>Arithmetic</li>\n",
    "    <li>Assignment</li>\n",
    "    <li>Relational</li>\n",
    "    <li>Logical</li>\n",
    "    <li>Boolean</li>\n",
    "</ul>"
   ]
  },
  {
   "cell_type": "markdown",
   "id": "d69e774e",
   "metadata": {},
   "source": [
    "**Arithmetic Operators**\n",
    "\n",
    "There are different arithmetic operators like Addition(+), Subtraction(-), Multiplication(*), Division (/). We also have operators like Modulus(%) for determing the reminder after an integer division; Exponential for calculating exponential power values; Integer division(//) for performing integer division and displaying only integer quotient.\n",
    "\n",
    "It should be noted that in an expression where multiple operations take place, the brackets or parenthesis will be given the priority, followed by exponential power value, then division, multiplication, modulus,addition and subtraction. The assignment operator is given the last priority and hence is at the end."
   ]
  },
  {
   "cell_type": "code",
   "execution_count": 3,
   "id": "f7e20563",
   "metadata": {},
   "outputs": [
    {
     "name": "stdout",
     "output_type": "stream",
     "text": [
      "Enter first number: 5\n",
      "Enter second number: 2\n",
      "5 + 2 = 7\n",
      "5 - 2 = 3\n",
      "5 * 2 = 10\n",
      "5 / 2 = 2.5\n",
      "5 ** 2 = 25\n",
      "5 % 2 = 1\n",
      "5 // 2 = 2\n"
     ]
    }
   ],
   "source": [
    "# Program 1: To show the usage of basic arithematic operators\n",
    "num1 = int(input('Enter first number: '))\n",
    "num2 = int(input('Enter second number: '))\n",
    "\n",
    "#Addition\n",
    "print(num1, \"+\", num2, \"=\", num1+num2)\n",
    "#Subtraction\n",
    "print(num1, \"-\", num2, \"=\",  num1-num2)\n",
    "#Multiplication\n",
    "print (num1, \"*\", num2, \"=\", num1*num2)\n",
    "#Division\n",
    "print(num1, \"/\", num2, \"=\", num1/num2)\n",
    "#Exponential \n",
    "print(num1, \"**\", num2, \"=\", num1**num2)\n",
    "#Modulus\n",
    "print(num1, \"%\", num2, \"=\", num1%num2)\n",
    "#Integer Division\n",
    "print(num1, \"//\", num2, \"=\", num1 // num2)"
   ]
  },
  {
   "cell_type": "markdown",
   "id": "dfa000f7",
   "metadata": {},
   "source": [
    "**Explanation:** \n"
   ]
  },
  {
   "cell_type": "code",
   "execution_count": null,
   "id": "56c41a16",
   "metadata": {
    "collapsed": true
   },
   "outputs": [],
   "source": [
    "###### multi1= (num1 + num2)*(num1-num2)\n",
    "multi2 = num + num2 * num1 -num2\n",
    "Enter first number: 100\n",
    "Enter second number: 30\n",
    "100 + 30 = 130\n",
    "100 - 30 = 70\n",
    "100 * 30 = 3000\n",
    "100 / 30 = 3.3333333333333335\n",
    "100 ** 30 = 1000000000000000000000000000000000000000000000000000000000000\n",
    "100 % 30 = 10\n",
    "100 // 30 = 3\n",
    "In [4]:\n",
    "num1 = int(input('Enter first number: '))\n",
    "num2 = int(input('Enter second number: '))\n",
    "multi1= (num1 + num2)*(num1-num2)\n",
    "multi2 = num1 + num2 * num1 -num2\n",
    "\n",
    "print(multi1)\n",
    "print(multi2)\n",
    "Enter first number: 4\n",
    "Enter second number: 2\n",
    "12\n",
    "10\n",
    "In [ ]:\n",
    "a=4\n",
    "\n",
    "a==b\n",
    "a!=b\n",
    "a>b\n",
    "a<b\n",
    "a>=b\n",
    "a<=b\n",
    "In [10]:\n",
    "num1 =60\n",
    "num2 =60\n",
    "\n",
    "print(\"The result of Equals to operator is:\", num1==num2) #False\n",
    "print (\"The result of not equal operator is: \", num1!=num2) #True\n",
    "print(\"The result for greater than is:\", num1 > num2) #True\n",
    "print(\"The result for less than is:\", num1 < num2) #False\n",
    "print(\"The result for greater than or equal to  is:\", num1 >= num2) #True\n",
    "print(\"The result for less than or equal to is:\", num1 <= num2) #False\n",
    "The result of Equals to operator is: True\n",
    "The result of not equal operator is:  False\n",
    "The result for greater than is: False\n",
    "The result for less than is: False\n",
    "The result for greater than or equal to  is: True\n",
    "The result for less than or equal to is: True\n",
    "and or not\n",
    "\n",
    "In [17]:\n",
    "num1 = 250\n",
    "num2 = 300\n",
    "num3 = 200\n",
    "\n",
    "print(\"And operator result:\", (num1+num2) > num3 and (num1+100) > num2)\n",
    "#print(\"Or operator result \", num1 > num3 or num1 > num2)\n",
    "#print (\"Not operator result:\", not num1<num2)\n",
    "And operator result: True\n",
    "In [ ]:\n",
    "num1<num2\n",
    "250 < 300 #True\n",
    "In [ ]:\n",
    "num1> num3 \n",
    "250 > 200 #True\n",
    "In [ ]:\n",
    "num1 > num2\n",
    "250 > 300 #False\n",
    "ParenthisisExponential divisionmultiplication integer divisionmodulus additionsubtraction Realtional Operators Logical Operators"
   ]
  }
 ],
 "metadata": {
  "kernelspec": {
   "display_name": "Python 3",
   "language": "python",
   "name": "python3"
  },
  "language_info": {
   "codemirror_mode": {
    "name": "ipython",
    "version": 3
   },
   "file_extension": ".py",
   "mimetype": "text/x-python",
   "name": "python",
   "nbconvert_exporter": "python",
   "pygments_lexer": "ipython3",
   "version": "3.8.5"
  }
 },
 "nbformat": 4,
 "nbformat_minor": 5
}
