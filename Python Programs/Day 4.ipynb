{
 "cells": [
  {
   "cell_type": "markdown",
   "id": "af802dc1",
   "metadata": {},
   "source": [
    "# Day 4 of Python Programming"
   ]
  },
  {
   "cell_type": "markdown",
   "id": "eeaa1e6b",
   "metadata": {},
   "source": [
    "### Decision-Making Structures"
   ]
  },
  {
   "cell_type": "markdown",
   "id": "ff2f3f84",
   "metadata": {},
   "source": [
    "Decision-making structures require the programmer to specify one or more conditions to be evaluated or tested by the program, along with a statement or statements to be executed if the condition is determined to be true, and optionally, other statements to be executed if the condition is determined to be false.\n",
    "\n",
    "The **if** structure is the general form of a typical decision-making structure found in most programming languages. When we need to execute a set of statements based on a condition, then we need to use the **if** structure.\n",
    "\n",
    "There are four types of **if** statements that we can use in Python programming based on requirement:\n",
    "1. IF\n",
    "2. IF...ELSE\n",
    "3. Nested IF\n",
    "4. IF-ELIF-ELSE Ladder"
   ]
  },
  {
   "cell_type": "markdown",
   "id": "6f87917d",
   "metadata": {},
   "source": [
    "**\"If\" Statement**\n",
    "\n",
    "A simple \"if\" statement consists of a Boolean expression followed by one or more statements. If the boolean expression evaluates to be true, then the block of code inside the **if** statement will be executed. If the condition is false, then the statements inside the **if** statement body is completely ignored."
   ]
  },
  {
   "cell_type": "code",
   "execution_count": 1,
   "id": "ee9b0854",
   "metadata": {},
   "outputs": [
    {
     "name": "stdout",
     "output_type": "stream",
     "text": [
      "Input the share price of two organizations: 100,300\n"
     ]
    }
   ],
   "source": [
    "#Program 1: To compare share prices of two organizations - using if statement\n",
    "\n",
    "p1, p2 = eval(input(\"Input the share price of two organizations: \"))\n",
    "#Using if statement:\n",
    "if (p1>p2):\n",
    "    print(\"The first organization is performing better\")"
   ]
  },
  {
   "cell_type": "markdown",
   "id": "a6886c63",
   "metadata": {},
   "source": [
    "**Explanation:**\n",
    "When p1>p2, the output \"The first organization is performing better\" is printed. When p1<p2, no output is generated because no instruction has been given in the second case."
   ]
  },
  {
   "cell_type": "markdown",
   "id": "feec74d4",
   "metadata": {},
   "source": [
    "**\"If...Else\" Statement**\n",
    "\n",
    "An **if** statement can be followed by an optional **else** statement which is executed when the boolean expression is false. If the boolean expression evaluates to be false, the first set of code after the end of the **else** statement will be executed."
   ]
  },
  {
   "cell_type": "code",
   "execution_count": 2,
   "id": "c67261ce",
   "metadata": {},
   "outputs": [
    {
     "name": "stdout",
     "output_type": "stream",
     "text": [
      "Input the share price of two organizations: 100,300\n",
      "The second organization is performing better\n"
     ]
    }
   ],
   "source": [
    "#Program 2: To compare share price of two organizations - using if...else.\n",
    "\n",
    "p1, p2 = eval(input(\"Input the share price of two organizations: \"))\n",
    "#Using if statement:\n",
    "if (p1>p2):\n",
    "    print(\"The first organization is performing better\")\n",
    "else:\n",
    "    print(\"The second organization is performing better\")"
   ]
  },
  {
   "cell_type": "markdown",
   "id": "3a0f6881",
   "metadata": {},
   "source": [
    "**Explanation:**\n",
    "In this program, the output is generated in both cases. However, it varies depending on the values. If the condition p1>p2 is true the output is \"The first organization is performing better\" and if the condition p1<p2 is true then the output is \"The second organization is performing better\"."
   ]
  },
  {
   "cell_type": "markdown",
   "id": "1353206b",
   "metadata": {},
   "source": [
    "It is also possible to execute multiple lines if the specified criterion is met. But unlike other programming languages, where we use curly braces to create a block of statement, in Python, we define the block through proper indentation."
   ]
  },
  {
   "cell_type": "code",
   "execution_count": 3,
   "id": "7f5fd495",
   "metadata": {},
   "outputs": [
    {
     "name": "stdout",
     "output_type": "stream",
     "text": [
      "Input the sales amount: 3000\n",
      "Input the expenses: 4000\n",
      "Poor Profit\n",
      "Work Hard\n"
     ]
    }
   ],
   "source": [
    "#Program 3: To compare the result depending on profit.\n",
    "sales = float(input(\"Input the sales amount: \"))\n",
    "expenses = float(input(\"Input the expenses: \"))\n",
    "profit = sales-expenses\n",
    "if profit > 9000:\n",
    "    print(\"Good profit\")\n",
    "    print(\"Congratualtions\")\n",
    "else:\n",
    "    print(\"Poor Profit\")\n",
    "    print(\"Work Hard\")"
   ]
  },
  {
   "cell_type": "markdown",
   "id": "cbd12e84",
   "metadata": {},
   "source": [
    "**Explanation:**\n",
    "Multiple statements are executed depending on whether the criterion (profit>9000) is met or not. If the profit is greater than 9000, then 2 statements are executed and hence the strings, \"Good profit\" and \"Congratulations\" are printed on the screen. This is because both the print statements are inside the if statement. Similarly, both the strings \"Poor Profit\" and \"Work Hard\" are printed if the condition is false since both of them are written inside the else statement."
   ]
  },
  {
   "cell_type": "markdown",
   "id": "45c4b660",
   "metadata": {},
   "source": [
    "**Nested \"If\" Statement**\n",
    "\n",
    "Nested **if** statements means **if** statement inside another **if** statement. For example, the decision related to whether a person can get a passport or not depends on multiple conditions like he/she should have no criminal background and he/she should be a permanent resident. "
   ]
  },
  {
   "cell_type": "code",
   "execution_count": 5,
   "id": "bc92bf13",
   "metadata": {},
   "outputs": [
    {
     "name": "stdout",
     "output_type": "stream",
     "text": [
      "Input the prices of three products: 200,300,600\n",
      "Third product is expensive\n"
     ]
    }
   ],
   "source": [
    "#Program 4: To compute expensive product among three products:\n",
    "p1,p2,p3 = eval(input(\"Input the prices of three products: \"))\n",
    "if (p1>p2):\n",
    "    if(p1>p3):\n",
    "        print(\"First product is expensive\")\n",
    "    else:\n",
    "        print(\"Third product is expensive\")\n",
    "else:\n",
    "    if(p2>p3):\n",
    "        print(\"Second product is expensive\")\n",
    "    else:\n",
    "        print(\"Third product is expensive\")"
   ]
  },
  {
   "cell_type": "markdown",
   "id": "39ac536a",
   "metadata": {},
   "source": [
    "**Explanation:**\n",
    "If p1>p2, then the program checks the condition p1>p3. If p1>p2, then the output is printed as \"First product is expensive\". This output is printed after two conditions are checked and met(p1>p2 and p1>p3). \n",
    "\n",
    "But, if p1 is not greater than p3, then \"Third product is expensive\" is printed because this condition was tested only when the first condition p1>p2 was satisfied. This implies that p1 is greater than p2 but is less than p3, which finally results in p3 being the greatest number. \n",
    "\n",
    "The \"else\" clause of p1>p2 is executed when the condition is not met (p1<p2). It then checks the condition p2>p3. The output \"Second product is expensive\" is printed when both the conditions (p2>p1 and p2>p3) are met. Similarly, \"First product is expensive\" is printed if p2>p1 but p2<p3."
   ]
  },
  {
   "cell_type": "markdown",
   "id": "7e0d1fc4",
   "metadata": {},
   "source": [
    "**\"If-Elif-Else\" Ladder**\n",
    "\n"
   ]
  },
  {
   "cell_type": "code",
   "execution_count": 6,
   "id": "cec23493",
   "metadata": {},
   "outputs": [
    {
     "name": "stdout",
     "output_type": "stream",
     "text": [
      "Input the quantity sold: 300\n",
      "Poor Performance\n"
     ]
    }
   ],
   "source": [
    "#Program 5: To print performance depending on quantity sold.\n",
    "qty = eval(input(\"Input the quantity sold: \"))\n",
    "if (qty >= 900):\n",
    "    print(\"Excellent Performance\")\n",
    "elif (qty>=750):\n",
    "    print(\"Above average Performance\")\n",
    "elif (qty>=500):\n",
    "    print(\"Average Performance\")\n",
    "else:\n",
    "    print(\"Poor Performance\")\n",
    "    "
   ]
  },
  {
   "cell_type": "markdown",
   "id": "f932c375",
   "metadata": {},
   "source": [
    "**Explanation:**\n",
    "The first condition is checked and since the value of qty is found to be greater than 900, it will print \"Excellent Performance\" and will not execute anything in the \"else\" statement. \n",
    "\n",
    "In the second case when the value of qty is less than 900, it will enter inside the else statement and will check the second condition. \n",
    "\n",
    "If the second condition qty>750 is not met, it will enter in the else statement of the second if statement and will check the third if condition qty>500. If it finds that this condition is met, it will then not enter the else statement and will execute the print statement written in the if statement. Thus, it will print \"Average Performance\" and complete the check."
   ]
  },
  {
   "cell_type": "code",
   "execution_count": 8,
   "id": "093e6f08",
   "metadata": {},
   "outputs": [
    {
     "name": "stdout",
     "output_type": "stream",
     "text": [
      "Enter the coefficients of x, y and intercept: 3,4,5\n",
      "Enter the coordinates of the point: 2,3\n",
      "The point is on the right side of the line \n"
     ]
    }
   ],
   "source": [
    "#Program 6: To determine whether the given point lies on the lines or not\n",
    "\n",
    "#input the coordinate of line.\n",
    "a,b,c =eval(input(\"Enter the coefficients of x, y and intercept: \"))\n",
    "\n",
    "#input the coordinates of point.\n",
    "x,y = eval(input(\"Enter the coordinates of the point: \"))\n",
    "\n",
    "#check the condition \n",
    "if ((x*a)+(y*b)-c)<0:\n",
    "    print(\"The point is on the left side of the line  \")\n",
    "elif ((x*a)+(y*b)-c)>0:\n",
    "    print(\"The point is on the right side of the line \")\n",
    "else:\n",
    "    print(\"The point is on the line \")\n"
   ]
  },
  {
   "cell_type": "markdown",
   "id": "e695a54a",
   "metadata": {},
   "source": [
    "**Explanation:**  The user is asked to enter the coefficients of line: a, b and c. The user is then prompted to enter the coordinates of the point. If ((x x a) +(y x b)-c)<0, then it displays the message that the point lies on the left side of the line. If this ondition is not holding good, it checks for the next condition whether ((x x a) +(y x b)-c)>0. The re"
   ]
  },
  {
   "cell_type": "code",
   "execution_count": null,
   "id": "3b914411",
   "metadata": {},
   "outputs": [],
   "source": [
    "#Program 7: To use logical operators with if-elif-else ladder\n",
    "salary= eval(input(\"input the salary: \"))\n",
    "\n",
    "#Using or Operator\n",
    "if(salary<=0)| (salary>=300000):\n",
    "    print(\"Invalid Salary\")\n",
    "    \n",
    "#Using and Operator\n"
   ]
  },
  {
   "cell_type": "markdown",
   "id": "0281ec72",
   "metadata": {},
   "source": [
    "**Explanation:**"
   ]
  },
  {
   "cell_type": "code",
   "execution_count": null,
   "id": "21b3760a",
   "metadata": {},
   "outputs": [],
   "source": []
  }
 ],
 "metadata": {
  "kernelspec": {
   "display_name": "Python 3",
   "language": "python",
   "name": "python3"
  },
  "language_info": {
   "codemirror_mode": {
    "name": "ipython",
    "version": 3
   },
   "file_extension": ".py",
   "mimetype": "text/x-python",
   "name": "python",
   "nbconvert_exporter": "python",
   "pygments_lexer": "ipython3",
   "version": "3.8.5"
  }
 },
 "nbformat": 4,
 "nbformat_minor": 5
}
