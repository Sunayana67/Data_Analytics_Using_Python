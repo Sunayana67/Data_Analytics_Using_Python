{
 "cells": [
  {
   "cell_type": "markdown",
   "id": "0cd92732",
   "metadata": {},
   "source": [
    "# Day 4 of Python Programming"
   ]
  },
  {
   "cell_type": "markdown",
   "id": "9406efd1",
   "metadata": {},
   "source": [
    "### Decision-Making Structures"
   ]
  },
  {
   "cell_type": "markdown",
   "id": "bb7c38bb",
   "metadata": {},
   "source": [
    "Decision-making structures require the programmer to specify one or more conditions to be evaluated "
   ]
  },
  {
   "cell_type": "markdown",
   "id": "2ff5d2d4",
   "metadata": {},
   "source": [
    "**\"If\" Statement**"
   ]
  },
  {
   "cell_type": "code",
   "execution_count": null,
   "id": "58ddd022",
   "metadata": {},
   "outputs": [],
   "source": []
  },
  {
   "cell_type": "markdown",
   "id": "d0f82f7f",
   "metadata": {},
   "source": [
    "**\"If...Else\" Statement**"
   ]
  },
  {
   "cell_type": "code",
   "execution_count": null,
   "id": "bbc05769",
   "metadata": {},
   "outputs": [],
   "source": []
  },
  {
   "cell_type": "markdown",
   "id": "aced59a4",
   "metadata": {},
   "source": [
    "**Nested \"If\" Statement**"
   ]
  },
  {
   "cell_type": "code",
   "execution_count": null,
   "id": "fed93904",
   "metadata": {},
   "outputs": [],
   "source": []
  },
  {
   "cell_type": "markdown",
   "id": "3c65b294",
   "metadata": {},
   "source": [
    "**\"If-Elif-Else\" Ladder**"
   ]
  },
  {
   "cell_type": "code",
   "execution_count": null,
   "id": "a1306db2",
   "metadata": {},
   "outputs": [],
   "source": []
  }
 ],
 "metadata": {
  "kernelspec": {
   "display_name": "Python 3",
   "language": "python",
   "name": "python3"
  },
  "language_info": {
   "codemirror_mode": {
    "name": "ipython",
    "version": 3
   },
   "file_extension": ".py",
   "mimetype": "text/x-python",
   "name": "python",
   "nbconvert_exporter": "python",
   "pygments_lexer": "ipython3",
   "version": "3.8.5"
  }
 },
 "nbformat": 4,
 "nbformat_minor": 5
}
