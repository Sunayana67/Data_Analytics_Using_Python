{
 "cells": [
  {
   "cell_type": "markdown",
   "id": "9840a213",
   "metadata": {},
   "source": [
    "# Day 10 of Python Programming"
   ]
  },
  {
   "cell_type": "markdown",
   "id": "6af16bfc",
   "metadata": {},
   "source": [
    "### Introduction to Data Structures"
   ]
  },
  {
   "cell_type": "markdown",
   "id": "1ff18dd0",
   "metadata": {},
   "source": [
    "Data structures play an important role in programming language. The different data structures included in Python are Array, List, Tuple and Dictionary. The difference between an array and a list is that an array is a collection of similar data types(homogeneous), whereas a list can be a collection of different data types (hetrogeneous).\n",
    "While array and list can be modified by adding, deleting and modifying the existing elements, it is not possible to modify the tuple. \n",
    "A dictionary is unique data structure generally not available in programming languages and is represented as key-value pair."
   ]
  },
  {
   "cell_type": "code",
   "execution_count": 1,
   "id": "96f283be",
   "metadata": {},
   "outputs": [
    {
     "name": "stdout",
     "output_type": "stream",
     "text": [
      "Please enter 5 decimal numbers\n",
      "Enter the number 1: 12\n",
      "Enter the number 2: 22\n",
      "Enter the number 3: 34\n",
      "Enter the number 4: 11\n",
      "Enter the number 5: 16\n",
      "The sum of  12.0 22.0 34.0 11.0 16.0  is:  95.0\n"
     ]
    }
   ],
   "source": [
    "#Program to add five members\n",
    "print(\"Please enter 5 decimal numbers\")\n",
    "val1 = float(input(\"Enter the number 1: \"))\n",
    "val2 = float(input(\"Enter the number 2: \"))\n",
    "val3 = float(input(\"Enter the number 3: \"))\n",
    "val4 = float(input(\"Enter the number 4: \"))\n",
    "val5 = float(input(\"Enter the number 5: \"))\n",
    "add= val1+val2+val3+val4+val5\n",
    "print(\"The sum of \", val1,val2,val3,val4,val5, \" is: \", add)"
   ]
  },
  {
   "cell_type": "markdown",
   "id": "980ed1b9",
   "metadata": {},
   "source": [
    "**Explanation:** This program adds five decimal number which are stored in val1, val2, val3, val4, val5. Since we need to add 5 numbers, hence 5 variables are required to store the numbers."
   ]
  },
  {
   "cell_type": "code",
   "execution_count": null,
   "id": "adeebae9",
   "metadata": {},
   "outputs": [],
   "source": []
  }
 ],
 "metadata": {
  "kernelspec": {
   "display_name": "Python 3",
   "language": "python",
   "name": "python3"
  },
  "language_info": {
   "codemirror_mode": {
    "name": "ipython",
    "version": 3
   },
   "file_extension": ".py",
   "mimetype": "text/x-python",
   "name": "python",
   "nbconvert_exporter": "python",
   "pygments_lexer": "ipython3",
   "version": "3.8.5"
  }
 },
 "nbformat": 4,
 "nbformat_minor": 5
}
