{
 "cells": [
  {
   "cell_type": "markdown",
   "id": "ea007d42",
   "metadata": {},
   "source": [
    "# Day 3 of Python Programming"
   ]
  },
  {
   "cell_type": "markdown",
   "id": "8d023b32",
   "metadata": {},
   "source": [
    "An operator is a symbol that tells the compiler to perform specific mathematical or logical functions. Python language provides the following types of operators:\n",
    "<ul>\n",
    "    <li>Arithmetic</li>\n",
    "    <li>Assignment</li>\n",
    "    <li>Relational</li>\n",
    "    <li>Logical</li>\n",
    "    <li>Boolean</li>\n",
    "</ul>"
   ]
  },
  {
   "cell_type": "markdown",
   "id": "bc7f07a3",
   "metadata": {},
   "source": [
    "**Arithmetic Operators**\n",
    "\n",
    "There are different arithmetic operators like Addition(+), Subtraction(-), Multiplication(*), Division (/). We also have operators like Modulus(%) for determing the reminder after an integer division; Exponential for calculating exponential power values; Integer division(//) for performing integer division and displaying only integer quotient.\n",
    "\n",
    "It should be noted that in an expression where multiple operations take place, the brackets or parenthesis will be given the priority, followed by exponential power value, then division, multiplication, modulus,addition and subtraction. The assignment operator is given the last priority and hence is at the end."
   ]
  },
  {
   "cell_type": "code",
   "execution_count": 8,
   "id": "74aed76d",
   "metadata": {},
   "outputs": [
    {
     "name": "stdout",
     "output_type": "stream",
     "text": [
      "Enter first number: 101\n",
      "Enter second number: 4\n",
      "101 + 4 = 105\n",
      "101 - 4 = 97\n",
      "101 * 4 = 404\n",
      "101 / 4 = 25.25\n",
      "101 ** 4 = 104060401\n",
      "101 % 4 = 1\n",
      "101 // 4 = 25\n"
     ]
    }
   ],
   "source": [
    "# Program 1: To show the usage of basic arithematic operators\n",
    "num1 = int(input('Enter first number: '))\n",
    "num2 = int(input('Enter second number: '))\n",
    "\n",
    "#Addition\n",
    "print(num1, \"+\", num2, \"=\", num1+num2)\n",
    "#Subtraction\n",
    "print(num1, \"-\", num2, \"=\",  num1-num2)\n",
    "#Multiplication\n",
    "print (num1, \"*\", num2, \"=\", num1*num2)\n",
    "#Division\n",
    "print(num1, \"/\", num2, \"=\", num1/num2)\n",
    "#Exponential \n",
    "print(num1, \"**\", num2, \"=\", num1**num2)\n",
    "#Modulus\n",
    "print(num1, \"%\", num2, \"=\", num1%num2)\n",
    "#Integer Division\n",
    "print(num1, \"//\", num2, \"=\", num1 // num2)"
   ]
  },
  {
   "cell_type": "markdown",
   "id": "7c88bbfc",
   "metadata": {},
   "source": [
    "**Explanation:** The first two statements prompt the user to enter 2 numbers. When the user types the number 101 and presses the enter key, num1 is assigned to the integer 101. Similarly, the user enters number 4 which is stored as num2. Later, the different arithmetic operators produce the desired result. It can be observed that 101/4 gives a float result, while 101//4 performs integer division and hence gives only integer result and ignores the decimal part. The remainder 1 is displayed using the modulus operator."
   ]
  },
  {
   "cell_type": "markdown",
   "id": "e9dc2c6d",
   "metadata": {},
   "source": [
    "**Assignment Operator**\n",
    "\n",
    "The different types of operators include assignment operator(=) that assigns numbers from right-side operands to the left-side operands."
   ]
  },
  {
   "cell_type": "code",
   "execution_count": 9,
   "id": "a76f185e",
   "metadata": {},
   "outputs": [
    {
     "name": "stdout",
     "output_type": "stream",
     "text": [
      "Enter first number: 12\n",
      "Enter second number: 14\n",
      "The result of addition assigment is: 26\n",
      "The result of subtraction assignment is:  2\n",
      "The result of multiplication assignment is:  168\n",
      "The result of division assignment is:  1.1666666666666667\n",
      "The result of integer quotient assignment is:  1\n",
      "The result of modulus assignment is:  1.1666666666666667\n",
      "The result of exponential assignment is:  56693912375296\n"
     ]
    }
   ],
   "source": [
    "#Program 2: To use the assignment operator\n",
    "\n",
    "num1 = int(input('Enter first number: '))\n",
    "num2 = int(input('Enter second number: '))\n",
    "\n",
    "#Add AND Assignment operator(+=): It adds right to left operand and assigns the result to the \n",
    "#left operand. Y+=X is equivalent to Y= Y+X. \n",
    "result= num2\n",
    "result+=num1\n",
    "print(\"The result of addition assigment is:\", result)\n",
    "\n",
    "#Subtract AND Assignment operator(-=): It subtracts right from left operand and assigns result to the \n",
    "#left operand. Y-=X is equivalent to Y = Y-X.\n",
    "result= num2\n",
    "result-= num1\n",
    "print(\"The result of subtraction assignment is: \", result)\n",
    "\n",
    "#Multiply AND Assignment operator(*=): It multiplies right with left operand and assigns \n",
    "#result to left operand. Y*=X is equivalent to Y= Y*X.\n",
    "result= num2\n",
    "result*= num1\n",
    "print(\"The result of multiplication assignment is: \", result)\n",
    "\n",
    "#Divide AND Assignment operator(/=): It divides left with right operand and assigns \n",
    "#result to left operand. Y/=X is equivalent to Y= Y/X.\n",
    "result= num2\n",
    "result/= num1\n",
    "print(\"The result of division assignment is: \", result)\n",
    "\n",
    "#Integer Division AND Assignment operator(//=): It divides left with right operand and assigns \n",
    "#the integer quotient to the left operand.\n",
    "result= num2\n",
    "result//= num1\n",
    "print(\"The result of integer quotient assignment is: \", result)\n",
    "\n",
    "#Modulus AND Assignment operator(%=): It divides left with right operand and assigns \n",
    "#remainder to the operand. Y%=X is equivalent to Y= Y%X.\n",
    "result= num2\n",
    "result/= num1\n",
    "print(\"The result of modulus assignment is: \", result)\n",
    "\n",
    "#Exponential AND Assignment operator(**=): It exponential multiplies right with left operand and assigns \n",
    "#result to left operand. Y**=X is equivalent to Y= Y**X.\n",
    "result= num2\n",
    "result**= num1\n",
    "print(\"The result of exponential assignment is: \", result)"
   ]
  },
  {
   "cell_type": "markdown",
   "id": "3f7bcb36",
   "metadata": {},
   "source": [
    "**Relational Operators**\n",
    "\n",
    "The different relational operators supported in Python are Equals(==), not Equals (!=), Greater than (>), Less than (<), Greater than or equal to (>=), Less than or equal to (<=). The use of these operators is explained in the following programs:"
   ]
  },
  {
   "cell_type": "code",
   "execution_count": 10,
   "id": "c7a36bcf",
   "metadata": {},
   "outputs": [
    {
     "name": "stdout",
     "output_type": "stream",
     "text": [
      "Enter first number: 100\n",
      "Enter second number: 200\n",
      "The result of equals to operator is:  False\n",
      "The result of not equals to operator is:  True\n",
      "The result of greater than operator is:  False\n",
      "The result of less than operator is:  True\n",
      "The result of greater than or equals to operator is:  False\n",
      "The result of less than or equals to operator is:  True\n"
     ]
    }
   ],
   "source": [
    "# Program 3: To use the relational operator\n",
    "\n",
    "num1 = int(input('Enter first number: '))\n",
    "num2 = int(input('Enter second number: '))\n",
    "\n",
    "#The Equals(==) operator checks if the values of two operands are equal.\n",
    "print(\"The result of equals to operator is: \", num1==num2)\n",
    "\n",
    "#The Not Equals(!=) operator checks if the values of two operands are not equal.\n",
    "print(\"The result of not equals to operator is: \", num1!=num2)\n",
    "\n",
    "#The Greater than(>) operator checks if the values of left operand is greater than right operand.\n",
    "print(\"The result of greater than operator is: \", num1>num2)\n",
    "\n",
    "#The less than(<) operator checks if the values of left operand is lesser than right operand.\n",
    "print(\"The result of less than operator is: \", num1<num2)\n",
    "\n",
    "#The Greater than or equal to(>=) operator checks if the values of left operand is greater than or equal to right operand.\n",
    "print(\"The result of greater than or equals to operator is: \", num1>=num2)\n",
    "\n",
    "#The Less than or equal to(<=) operator checks if the values of left operand is lesser than or equal to right operand.\n",
    "print(\"The result of less than or equals to operator is: \", num1<=num2)"
   ]
  },
  {
   "cell_type": "markdown",
   "id": "6d4aac89",
   "metadata": {},
   "source": [
    "**Logical Operators**\n",
    "\n",
    "These operators are used when we need to check multiple conditions. Each of the conditions is evaluated to TRUE or FALSE and then combined decisions related to all conditions are taken.\n",
    "There are basically three logical operators in Python which include AND, OR, NOT. The AND operator returns TRUE if all the conditions are true. The OR operator returns TRUE if at least one of the conditions is true. The NOT operator returns the opposite of the value.\n"
   ]
  },
  {
   "cell_type": "code",
   "execution_count": 18,
   "id": "27065519",
   "metadata": {},
   "outputs": [
    {
     "name": "stdout",
     "output_type": "stream",
     "text": [
      "Enter first number: 50\n",
      "Enter second number: 10\n",
      "Enter third number: 20\n",
      "The use of and operator:  False\n",
      "The use of or operator:  True\n",
      "The use of not operator:  False\n"
     ]
    }
   ],
   "source": [
    "# Program 4: To show the use of logical operator.\n",
    "\n",
    "num1 = int(input('Enter first number: '))\n",
    "num2 = int(input('Enter second number: '))\n",
    "num3 = int(input('Enter third number: '))\n",
    "\n",
    "#use of AND operator:\n",
    "print(\"The use of and operator: \", num1>num3 and num2>num3)\n",
    "\n",
    "#use of OR operator: \n",
    "print(\"The use of or operator: \", num1>num3 or num2>num3)\n",
    "\n",
    "#use of NOT operator: \n",
    "print(\"The use of not operator: \", not num1>num3)"
   ]
  },
  {
   "cell_type": "markdown",
   "id": "4654e797",
   "metadata": {},
   "source": [
    "**Explanation:** The first print statement num1>num3 holds False but num2>num3 holds True, so overall output is False as both conditions have to be True for an AND. \n",
    "The second print statement num1>num3 holds False but num2>num3 holds True, so overall output is True as any one of the condition should be True for a OR.\n",
    "The third print statements the opposite of actual value ie. num1>num3 holds True, so the overall output is False as not prints the opposite."
   ]
  },
  {
   "cell_type": "markdown",
   "id": "63005630",
   "metadata": {},
   "source": [
    "It is also possible to use logical operators on Boolean values. The Boolean input will always return a Boolean output as shown in the following program:"
   ]
  },
  {
   "cell_type": "code",
   "execution_count": 5,
   "id": "20b8bcbe",
   "metadata": {},
   "outputs": [
    {
     "name": "stdout",
     "output_type": "stream",
     "text": [
      "The use of and operator returns:  False\n",
      "The use of and operator on val1 only returns:  True\n",
      "The use of and operator on val2 only returns:  False\n",
      "The use of or operator returns:  True\n",
      "The use of or operator returns:  True\n",
      "The use of not operator on val1 returns:  False\n",
      "The use of not operator on val2 returns:  True\n"
     ]
    }
   ],
   "source": [
    "# Program 5: TO show the use of logical operators on Boolean values:\n",
    "\n",
    "val1 = True\n",
    "val2 = False\n",
    "\n",
    "#Use of \"and\" on Boolean Value\n",
    "print(\"The use of and operator returns: \", val1 and val2)\n",
    "print(\"The use of and operator on val1 only returns: \", val1 and val1)\n",
    "print(\"The use of and operator on val2 only returns: \", val2 and val2)\n",
    "\n",
    "#Use of \"or\" on Boolean Value\n",
    "print(\"The use of or operator returns: \", val1 or val2)\n",
    "print(\"The use of or operator returns: \", val2 or val1)\n",
    "\n",
    "#Use of \"not\" on Boolean Value\n",
    "print(\"The use of not operator on val1 returns: \", not val1)\n",
    "print(\"The use of not operator on val2 returns: \", not val2)"
   ]
  },
  {
   "cell_type": "markdown",
   "id": "b48b7b93",
   "metadata": {},
   "source": [
    "**Explanation:** The use of \"and\" operation on val1 and val2 returns \"False\" since both are not True. However, \"val1\" and \"val2\" returns \"True\" since both the conditions are True. \n",
    "\n",
    "Similarly, \"val2 and val2\" returns \"False\" since both the conditions are False. The use of \"or\" operator returns \"True\" since at least one of the conditions is True. The \"not val1\" returns False (opposite of val1 that is True) and \"not val2\" returns True (opposite of val2 that is False). "
   ]
  },
  {
   "cell_type": "markdown",
   "id": "6a37a939",
   "metadata": {},
   "source": [
    "**Operator Precedence**\n",
    "\n",
    "In an expression with multiple operators, operator precedence determines the grouping of terms in an expression and decides how an expression will be evaluated. Certain operators have higher precedence than others. The precedence order is :\n",
    "\n",
    "1. Parenthesis\n",
    "2. Exponential\n",
    "3. Division, Multiplication, Integer Division, Modulus\n",
    "4. Addition and Subtraction\n",
    "5. Relational Operators\n",
    "6. Assignment Operators\n",
    "7. Logical and Boolean Operators"
   ]
  },
  {
   "cell_type": "code",
   "execution_count": 1,
   "id": "bc835fd5",
   "metadata": {},
   "outputs": [
    {
     "name": "stdout",
     "output_type": "stream",
     "text": [
      "Parenthesis has highest precedence: 75000\n",
      "Multiplication has higher precedence than addition: 5200\n",
      "Relational has higher precedence than logical operators:  False\n"
     ]
    }
   ],
   "source": [
    "#Program 6: To show the utility of operator precedence:\n",
    "\n",
    "a=200\n",
    "b=100\n",
    "c=50\n",
    "print(\"Parenthesis has highest precedence:\", (a+c)*(a+b))\n",
    "print(\"Multiplication has higher precedence than addition:\", a+c*b)\n",
    "print(\"Relational has higher precedence than logical operators: \", a>b and b<c)\n"
   ]
  },
  {
   "cell_type": "markdown",
   "id": "6fa428ff",
   "metadata": {},
   "source": [
    "**Explanation:** In the first print statement, \"a+c\" and \"a+b\" are evaluated first because they are inside the parentheses, and are then multiplied by each other. Hence, the result is 250 x 300 =75000.\n",
    "\n",
    "In the second print statement, since the multiplication has higher precedence than addition, hence multiplication of b and c is done first and then added to a. Hence, the result is 200 + 5000 = 5200.\n",
    "\n",
    "Similarly, in the last print statement, since relational operators have higher precedence than logical operations, hence “a>b” and “b<c” are evaluated first and then the “and” operator is used. Since a>b is True and b<c is False, hence the “and” operator used on True and False returns False."
   ]
  }
 ],
 "metadata": {
  "kernelspec": {
   "display_name": "Python 3",
   "language": "python",
   "name": "python3"
  },
  "language_info": {
   "codemirror_mode": {
    "name": "ipython",
    "version": 3
   },
   "file_extension": ".py",
   "mimetype": "text/x-python",
   "name": "python",
   "nbconvert_exporter": "python",
   "pygments_lexer": "ipython3",
   "version": "3.8.5"
  }
 },
 "nbformat": 4,
 "nbformat_minor": 5
}
