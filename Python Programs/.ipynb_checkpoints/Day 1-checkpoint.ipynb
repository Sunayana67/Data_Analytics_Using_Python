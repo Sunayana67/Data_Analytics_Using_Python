{
 "cells": [
  {
   "cell_type": "markdown",
   "id": "4051dfa6",
   "metadata": {},
   "source": [
    "# Day 1 of Python Programming"
   ]
  },
  {
   "cell_type": "markdown",
   "id": "a830e6f7",
   "metadata": {},
   "source": [
    "**What is Python?**\n",
    "\n",
    "Python is a popular programming language. It was created by Guido van Rossum, and released in 1991.\n",
    "\n",
    "It is used for:\n",
    "<ul>\n",
    " <li>web development</li>\n",
    " <li>software development</li>\n",
    " <li>mathematics</li>\n",
    " <li>system scripting</li>\n",
    "</ul>"
   ]
  },
  {
   "cell_type": "markdown",
   "id": "eca8c6f0",
   "metadata": {},
   "source": [
    "**What can Python do?**\n",
    "\n",
    "1. Python can be used on a server to create web applications.\n",
    "2. Python can be used alongside software to create workflows.\n",
    "3. Python can connect to database systems. It can also read and modify files.\n",
    "4. Python can be used to handle big data and perform complex mathematics.\n",
    "5. Python can be used for rapid prototyping, or for production-ready software development.\n"
   ]
  },
  {
   "cell_type": "markdown",
   "id": "2f21894f",
   "metadata": {},
   "source": [
    "**Why Python?**\n",
    "\n",
    "1. Python works on different platforms (Windows, Mac, Linux, etc).\n",
    "2. Python has a simple syntax similar to the English language.\n",
    "3. Python has a syntax that allows developers to write programs with fewer lines than some other programming languages.\n",
    "4. Python runs on an interpreter system, meaning that code can be executed as soon as it is written. This means that prototyping can be very quick.\n",
    "5. Python can be treated in a procedural way, an object-oriented way or a functional way.\n",
    "6. Python Syntax compared to other programming languages\n",
    "7. Python was designed for readability and has some similarities to the English language with influence from mathematics.\n",
    "8. Python uses new lines to complete a command, as opposed to other programming languages which often use semicolons or parentheses.\n",
    "9. Python relies on indentation, using whitespace, to define scope; such as the scope of loops, functions and classes. Other programming languages often use curly brackets for this purpose.\n"
   ]
  },
  {
   "cell_type": "markdown",
   "id": "68a9c6ac",
   "metadata": {},
   "source": [
    "**Basic Syntaxes**\n",
    "\n",
    "Comments are helping text in a Python program and are ignored by the compiler. A single-line comment starts with a #. Multi-line comments can be created using \"\"\" (three double quotes at the start and end of comment block). NOTE: Sometimes three double quotes might not work; in that case select the text you want to comment on and then click CTRL + /. For MAC OS click CMD + /."
   ]
  },
  {
   "cell_type": "code",
   "execution_count": 1,
   "id": "0a21fdbb",
   "metadata": {},
   "outputs": [],
   "source": [
    "#this is a  singlr line comment"
   ]
  },
  {
   "cell_type": "code",
   "execution_count": 2,
   "id": "f46d9f31",
   "metadata": {},
   "outputs": [],
   "source": [
    "# This is a  \n",
    "# multiple line\n",
    "# comment"
   ]
  },
  {
   "cell_type": "code",
   "execution_count": 3,
   "id": "c8eb88b7",
   "metadata": {},
   "outputs": [
    {
     "name": "stdout",
     "output_type": "stream",
     "text": [
      "Hello World\n"
     ]
    }
   ],
   "source": [
    "#printing hello world\n",
    "print(\"Hello World\") "
   ]
  },
  {
   "cell_type": "code",
   "execution_count": 4,
   "id": "a5622f08",
   "metadata": {},
   "outputs": [
    {
     "name": "stdout",
     "output_type": "stream",
     "text": [
      "9\n"
     ]
    }
   ],
   "source": [
    "print (4+5) #Adding 2 numbers"
   ]
  },
  {
   "cell_type": "code",
   "execution_count": 5,
   "id": "7346b77f",
   "metadata": {},
   "outputs": [
    {
     "name": "stdout",
     "output_type": "stream",
     "text": [
      "2\n"
     ]
    }
   ],
   "source": [
    "print(4-2) #subtracting 2 numbers"
   ]
  }
 ],
 "metadata": {
  "kernelspec": {
   "display_name": "Python 3",
   "language": "python",
   "name": "python3"
  },
  "language_info": {
   "codemirror_mode": {
    "name": "ipython",
    "version": 3
   },
   "file_extension": ".py",
   "mimetype": "text/x-python",
   "name": "python",
   "nbconvert_exporter": "python",
   "pygments_lexer": "ipython3",
   "version": "3.8.5"
  }
 },
 "nbformat": 4,
 "nbformat_minor": 5
}
