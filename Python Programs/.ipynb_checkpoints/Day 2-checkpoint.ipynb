{
 "cells": [
  {
   "cell_type": "markdown",
   "id": "5c7ed08e",
   "metadata": {},
   "source": [
    "# Day 2 of Python Programming"
   ]
  },
  {
   "cell_type": "markdown",
   "id": "04553149",
   "metadata": {},
   "source": [
    "###  Variables in Python"
   ]
  },
  {
   "cell_type": "markdown",
   "id": "c274e5c8",
   "metadata": {},
   "source": [
    "A Python variable is a reserved memory location to store values. In other words, a variable in a python program gives data to the computer for processing. A Python identifier is a name given to our variables. Python is a case-sensitive programming language. Thus, Sales and sales are 2 different variables."
   ]
  },
  {
   "cell_type": "markdown",
   "id": "383364cb",
   "metadata": {},
   "source": [
    "### Naming Conventions"
   ]
  },
  {
   "cell_type": "markdown",
   "id": "a7847fbe",
   "metadata": {},
   "source": [
    "The name of a variable can be composed of letters and digits or the underscore. \n",
    "It can start from A to Z or a to z or an underscore followed by more letters, underscores and digits (0 to 9). \n",
    "Python does not allow punctuation characters such as @ $ and % within the variable name. \n",
    "Valid variable names are : PROFIT, salary, emp12, Acc_ etc. \n",
    "Some words have pre-defined significance in Python programming language. These words are called reserved words and may not be used as constants or variable name. Example of reserved words include if, else, for, break etc."
   ]
  },
  {
   "cell_type": "markdown",
   "id": "ae6cb3bb",
   "metadata": {},
   "source": [
    "### Assigning values to variables"
   ]
  },
  {
   "cell_type": "markdown",
   "id": "9b3d2535",
   "metadata": {},
   "source": [
    "Like many other programming languages, the \"=\" operator means assignment and does not represent mathematical equality. Thus the statement x=5 assigns the numeric value 5 to variable x. It should be noted that the numeric value is written without double quotes and a string value is enclosed in double qoutes \"\". For example:\n",
    "\n",
    "salary = 7000\n",
    "country = \"UK\"\n"
   ]
  },
  {
   "cell_type": "markdown",
   "id": "9092cb38",
   "metadata": {},
   "source": [
    "### Output in Python"
   ]
  },
  {
   "cell_type": "markdown",
   "id": "d7baf41b",
   "metadata": {},
   "source": [
    "The most fundamental thing in a programming language is the input to the program and output from the program. The output is displayed using **print()** function in Python.\n"
   ]
  },
  {
   "cell_type": "markdown",
   "id": "f075831f",
   "metadata": {},
   "source": [
    "**print() Function**\n",
    "\n",
    "The string which needs to be printed is written in double quotes in print() function."
   ]
  },
  {
   "cell_type": "code",
   "execution_count": 1,
   "id": "e2265093",
   "metadata": {},
   "outputs": [
    {
     "name": "stdout",
     "output_type": "stream",
     "text": [
      "Total salary is salary\n",
      "Total salary is :  7000\n"
     ]
    }
   ],
   "source": [
    "#Program 1: To print output in a program.\n",
    "salary = 7000\n",
    "print(\"Total salary is salary\")\n",
    "print(\"Total salary is : \" , salary)"
   ]
  },
  {
   "cell_type": "markdown",
   "id": "8a860eef",
   "metadata": {},
   "source": [
    "**Explanation:** As the variable inside double quotes will be printed by Python as it is rather printing the value of the variable. Thus, the statement print(\"Total salary is salary \") prints \"Total salary is salary\". In case we want to print the value of the variable, then we need to write the variable name without double quotes. Hence the statment print(\"Total salary is : \", salary) prints \"Total salary is : 7000\". It should be noted that the string and the variable are separated with a comma (,).\n"
   ]
  },
  {
   "cell_type": "code",
   "execution_count": 2,
   "id": "17d01b68",
   "metadata": {},
   "outputs": [
    {
     "name": "stdout",
     "output_type": "stream",
     "text": [
      "Welcome\n",
      "to\n",
      "Python World\n"
     ]
    }
   ],
   "source": [
    "#Program 2: To print multiple outputs in a single program.\n",
    "print(\"Welcome\")\n",
    "print(\"to\")\n",
    "print(\"Python World\")"
   ]
  },
  {
   "cell_type": "markdown",
   "id": "9db956da",
   "metadata": {},
   "source": [
    "**Explanation:** We can observe that the use of each print statement displays the result in a new line. Hence, \"Welcome\", \"to\", \"Python World\" are printed on three differnet lines."
   ]
  },
  {
   "cell_type": "markdown",
   "id": "fc040e94",
   "metadata": {},
   "source": [
    "**Print with \"end\" Argument** \n",
    "\n",
    "Sometimes it is convenient to view the output of a single line printed texted over sevral Python statements. As an example, we may compute part of a complicated calculation, print an intermediate result, finish the calculation, and print the final answer with the output all appearing in one line of text. The \"end\" argument in print statement allows to do so."
   ]
  },
  {
   "cell_type": "code",
   "execution_count": 3,
   "id": "7922ab80",
   "metadata": {},
   "outputs": [
    {
     "name": "stdout",
     "output_type": "stream",
     "text": [
      "Welcome to Python World "
     ]
    }
   ],
   "source": [
    "#Program 3: To print with 'end' argument.\n",
    "print('Welcome', end=' ')\n",
    "print('to',  end= ' ')\n",
    "print ('Python World', end= ' ')"
   ]
  },
  {
   "cell_type": "markdown",
   "id": "9ffb57f9",
   "metadata": {},
   "source": [
    "**Explanation:** We have used \"end\" argument in print() function. This will cause the cursor to remain on the same line for the next text. Hence, all words are printed on same line."
   ]
  },
  {
   "cell_type": "code",
   "execution_count": 4,
   "id": "a633c5fc",
   "metadata": {},
   "outputs": [
    {
     "name": "stdout",
     "output_type": "stream",
     "text": [
      "Hello Dear\n",
      "Enter your name  Welcome\n",
      "Nice to see you"
     ]
    }
   ],
   "source": [
    "#Program 4: To use print() function with and without \"end\" argument.\n",
    "print(\"Hello Dear\")\n",
    "print(\"Enter your name \", end= ' ')\n",
    "print(\"Welcome\")\n",
    "print(end='Nice to see you')"
   ]
  },
  {
   "cell_type": "markdown",
   "id": "ef796ff1",
   "metadata": {},
   "source": [
    "**Explanation:** The statement print('Hello Dear') is an abbreviated form of the statement print('Hello Dear', end= '\\n'), that is, the default ending for a line of printed text is the string '\\n' (the newline control code). The next statement print('Enter your name ', end= '') terminates the line with the string \"Enter your name\" rather than the normal \\n newline code. The difference in the behavior of the two statement is indistinguishable. Since end argument is used, \"Welcome\" is written in the same line. However, the statement print(end = 'Nice to see you') moves the cursor down to next line."
   ]
  },
  {
   "cell_type": "markdown",
   "id": "62ee27a0",
   "metadata": {},
   "source": [
    "**Print with \"sep\" argument**\n",
    "\n",
    "The print() function uses the argument \"sep\" to specify what string to insert between the items. The value of sep argument allows us to controll how the print() function visually separates the arguments in display"
   ]
  },
  {
   "cell_type": "code",
   "execution_count": 5,
   "id": "c20f506c",
   "metadata": {},
   "outputs": [
    {
     "name": "stdout",
     "output_type": "stream",
     "text": [
      "100 150 200 250\n",
      "100150200250\n",
      "100 150 200 250\n",
      "100,150,200,250\n",
      "100:150:200:250\n",
      "100-----150-----200-----250\n"
     ]
    }
   ],
   "source": [
    "#Program 5: To show the use of \"sep\" argument in print() function.\n",
    "var1, var2, var3, var4 = 100 , 150, 200, 250\n",
    "\n",
    "print(var1, var2, var3, var4)\n",
    "print(var1, var2, var3, var4, sep= '')\n",
    "print(var1, var2, var3, var4, sep= ' ')\n",
    "print(var1, var2, var3, var4, sep= ',')\n",
    "print(var1, var2, var3, var4, sep= ':')\n",
    "print(var1, var2, var3, var4, sep='-----')"
   ]
  },
  {
   "cell_type": "markdown",
   "id": "66930aa6",
   "metadata": {},
   "source": [
    "**Explanation:** The first output shows print's default method of using a single space between printed output. The second output uses no space as separator. The third output uses an empty string as separator. The fourth output uses comma as a separator. The fifth output uses colon as a separator. And lastly sixth output uses multiple string characters like dashes as a separator."
   ]
  },
  {
   "cell_type": "markdown",
   "id": "7ddf7a9f",
   "metadata": {},
   "source": [
    "### Input in python"
   ]
  },
  {
   "cell_type": "markdown",
   "id": "f810bbaa",
   "metadata": {},
   "source": [
    "Input in Python program is primarily taken using the **input()** function. The input() function helps to take the string data from the user. However **int()** and **float()** functions can be used along with input() if the user wants to take only integer and float inputs respectively. The **eval()** function is commonly used to define the data type of th input aacording to the value entered by the user."
   ]
  },
  {
   "cell_type": "markdown",
   "id": "5d943054",
   "metadata": {},
   "source": [
    "**Input() Function**\n",
    "\n",
    "This function primarily takes input from the user. It should be noted that the input() function accepts only string data. Hence it is advisible to use this function only when the user wants to input string data type only.\n"
   ]
  },
  {
   "cell_type": "code",
   "execution_count": 6,
   "id": "37802f58",
   "metadata": {},
   "outputs": [
    {
     "name": "stdout",
     "output_type": "stream",
     "text": [
      "Enter a number: 56\n",
      "The number is: 56 and class is: <class 'str'>\n"
     ]
    }
   ],
   "source": [
    "#Program 6: To take string value as input from the user.\n",
    "num = input(\"Enter a number: \") \n",
    "print(\"The number is:\", num, \"and class is:\", type(num))"
   ]
  },
  {
   "cell_type": "markdown",
   "id": "74c9e47a",
   "metadata": {},
   "source": [
    "**Explanation:** The user is asked to enter a number using the input() function. It should be noted that input() function takes input in the form of string only, hence the input is converted to string. Hence when the user enters 12 which is a number; but,the input() function converts it into string. So,when the data type of \"num\" using type() function is printed, class \"str\" is printed."
   ]
  },
  {
   "cell_type": "code",
   "execution_count": 7,
   "id": "6697bda2",
   "metadata": {},
   "outputs": [
    {
     "name": "stdout",
     "output_type": "stream",
     "text": [
      "Enter your name: Harry\n",
      "Hello and Welcome Harry\n"
     ]
    }
   ],
   "source": [
    "#Program 7: To take string values as input from the user.\n",
    "username = input(\"Enter your name: \")\n",
    "print(\"Hello and Welcome\", username )"
   ]
  },
  {
   "cell_type": "markdown",
   "id": "744ea23f",
   "metadata": {},
   "source": [
    "**Explanation:** In the above program, the user is promoted to enter the name which is stored in the variable \"username\" and hence when the username is printed along with the string \"Hello and Welcome\"; the name is printed along with the string."
   ]
  },
  {
   "cell_type": "markdown",
   "id": "3d49adb4",
   "metadata": {},
   "source": [
    "**Input with int() function**\n",
    "The int() function along with input() function helps to accept integer values from the user."
   ]
  },
  {
   "cell_type": "code",
   "execution_count": 8,
   "id": "ab5a1aef",
   "metadata": {},
   "outputs": [
    {
     "name": "stdout",
     "output_type": "stream",
     "text": [
      "Enter the salary:50000\n",
      "The salary is: 50000 <class 'int'>\n"
     ]
    }
   ],
   "source": [
    "#Program 8: To take numeric value as input from user.\n",
    "salary = int(input(\"Enter the salary:\"))\n",
    "print(\"The salary is:\", salary, type(salary))"
   ]
  },
  {
   "cell_type": "markdown",
   "id": "a40ff349",
   "metadata": {},
   "source": [
    "**Explanation:** After displaying the string \"Enter the salary:\", the program's execution stops and waits for the user to type-in some text and then press the enter key. The string produced by the input() function is passed to the int() function that produces a value to assign to the variable \"salary\". The command salary = int(input(\"Enter the salary:\")) hence prompts the user to enter an integer value and store it in the variable salary. The print command prints the value of salary. The above program accepts integer values for salary. However, error would have been generated if the salary was entered in a decimal form. This is beacause Python can not automatically convert a float value into integer."
   ]
  },
  {
   "cell_type": "markdown",
   "id": "0fcf556f",
   "metadata": {},
   "source": [
    "**Input with float() function**\n",
    "\n",
    "The float() function along with input() function helps to accept decimal values from the user."
   ]
  },
  {
   "cell_type": "code",
   "execution_count": 9,
   "id": "857016b2",
   "metadata": {},
   "outputs": [
    {
     "name": "stdout",
     "output_type": "stream",
     "text": [
      "Enter the side of square: 78\n",
      "The area of square using variable is:  6084.0\n",
      "The area of square computed directly is:  6084.0\n"
     ]
    }
   ],
   "source": [
    "#Program 9: To take float value as input from user.\n",
    "side = float(input(\"Enter the side of square: \"))\n",
    "area =  side * side\n",
    "print(\"The area of square using variable is: \", area)\n",
    "print(\"The area of square computed directly is: \", side*side)"
   ]
  },
  {
   "cell_type": "markdown",
   "id": "d98823f6",
   "metadata": {},
   "source": [
    "**Explanation:** In the first line the user is prompted to enter the side of the square which is stored in the variable \"side\". The area is computed and stored in variable named \"area\". The first print statement prints the answer from the variable \"area\" on the screen. The second print statement does the calculation inside the print statement and prints the result. Both the ways of print statement thereby print the same result. The user can choose any of the two ways depending on the requirement and utility. "
   ]
  },
  {
   "cell_type": "markdown",
   "id": "0d14884a",
   "metadata": {},
   "source": [
    "**Input with eval() function**\n",
    "\n",
    "Python provides a distinct feature for taking input from the user using **eval()** function, which considers the data type aacording to the nature of input provided. The eval() function can also be used to convert a string representing a numeric expression into its evaluated numeric value. \n"
   ]
  },
  {
   "cell_type": "code",
   "execution_count": 10,
   "id": "c4b2c494",
   "metadata": {},
   "outputs": [
    {
     "name": "stdout",
     "output_type": "stream",
     "text": [
      "Enter the value of first variable: 5\n",
      "val1=  5 type:  <class 'int'>\n",
      "Enter the value of second variable: 67\n",
      "val2=  67 type:  <class 'int'>\n",
      "Enter the value of third variable: 6.88\n",
      "val3=  6.88 type:  <class 'float'>\n"
     ]
    }
   ],
   "source": [
    "#To take input from the user using eval() function.\n",
    "val1= eval(input('Enter the value of first variable: '))\n",
    "print('val1= ', val1, 'type: ', type(val1))\n",
    "\n",
    "val2= eval(input('Enter the value of second variable: '))\n",
    "print('val2= ', val2, 'type: ', type(val2))\n",
    "\n",
    "val3= eval(input('Enter the value of third variable: '))\n",
    "print('val3= ', val3, 'type: ', type(val3))"
   ]
  },
  {
   "cell_type": "markdown",
   "id": "79fe557e",
   "metadata": {},
   "source": [
    "**Explanation:** The first statement asks the user to enter the first value. The value entered by the user is stored in val1. The statement *print('val1= ', val1, 'type: ', type(val1))* displays the output on the screen with the data type of val1. Similarly, the user is prompted to enter the second value. The value entered is now stored in val2. The print statement now prints the variable val2 and its data type. Till now the user has not entered value in quotes, now for the third the user enters the third value in quotes, it will be treated as a string value. Hence the data type of val3 will be a string."
   ]
  },
  {
   "cell_type": "code",
   "execution_count": 11,
   "id": "372ff8fd",
   "metadata": {
    "scrolled": true
   },
   "outputs": [
    {
     "name": "stdout",
     "output_type": "stream",
     "text": [
      "Enter three numbers: 7,8,9\n",
      "7 + 8 + 9 = 24\n",
      "7 8 9\n",
      "<class 'int'>\n"
     ]
    }
   ],
   "source": [
    "a,b,c = eval(input(\"Enter three numbers: \"))\n",
    "\n",
    "print(a,\"+\", b,\"+\", c,\"=\",a+b+c)\n",
    "print(a, b, c)\n",
    "print(type(a))"
   ]
  },
  {
   "cell_type": "markdown",
   "id": "3094df5c",
   "metadata": {},
   "source": [
    "**Explanation:**  This example shows that the user can enter 3 numbers at the same time using one eval() function. The user has entered 3 numbers and hence the sum is printed. It should be noted that for giving multiple inputs through one statement, the numbers entered by the user should also be separated by a comma."
   ]
  },
  {
   "cell_type": "markdown",
   "id": "1aa2eab5",
   "metadata": {},
   "source": [
    "**NOTE:** The statement *a,b,c = int(input(\"Enter three numbers: \"))* will result in run-time error beacause int() function can not accept multiple inputs. This is possible only through eval() function."
   ]
  }
 ],
 "metadata": {
  "kernelspec": {
   "display_name": "Python 3",
   "language": "python",
   "name": "python3"
  },
  "language_info": {
   "codemirror_mode": {
    "name": "ipython",
    "version": 3
   },
   "file_extension": ".py",
   "mimetype": "text/x-python",
   "name": "python",
   "nbconvert_exporter": "python",
   "pygments_lexer": "ipython3",
   "version": "3.8.5"
  }
 },
 "nbformat": 4,
 "nbformat_minor": 5
}
